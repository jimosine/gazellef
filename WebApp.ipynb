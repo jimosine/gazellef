{
 "cells": [
  {
   "cell_type": "code",
   "execution_count": 678,
   "id": "ecad48f2",
   "metadata": {},
   "outputs": [],
   "source": [
    "import pandas as pd\n",
    "import numpy as np\n",
    "import myfitnesspal\n",
    "import datetime\n",
    "import json\n",
    "\n",
    "from flask import g, Flask, render_template, request, session, redirect, url_for, jsonify\n",
    "from werkzeug.wrappers import Request, Response\n",
    "\n",
    "from werkzeug.serving import run_simple"
   ]
  },
  {
   "cell_type": "markdown",
   "id": "fe11de9d",
   "metadata": {},
   "source": [
    "# MyFitnessPal"
   ]
  },
  {
   "cell_type": "code",
   "execution_count": 1147,
   "id": "15a1c122",
   "metadata": {},
   "outputs": [],
   "source": [
    "client = myfitnesspal.Client('groupb3', password='groupb3thebest')"
   ]
  },
  {
   "cell_type": "code",
   "execution_count": 1148,
   "id": "b35532f4",
   "metadata": {},
   "outputs": [
    {
     "name": "stdout",
     "output_type": "stream",
     "text": [
      "03/24/22 {}\n",
      "[]\n",
      "You burned 0 calories today\n"
     ]
    }
   ],
   "source": [
    "date = datetime.date.today()\n",
    "day = client.get_date(date)\n",
    "print(day)\n",
    "print(day.exercises[0].get_as_list())\n",
    "\n",
    "calories = 0\n",
    "#calories = day.exercises[0].get_as_list()[0]['nutrition_information']['calories burned']\n",
    "\n",
    "print('You burned ' + str(calories) + ' calories today')"
   ]
  },
  {
   "cell_type": "code",
   "execution_count": 1149,
   "id": "c3623f50",
   "metadata": {},
   "outputs": [
    {
     "name": "stdout",
     "output_type": "stream",
     "text": [
      "Your current weight is: 85.0kg\n"
     ]
    }
   ],
   "source": [
    "current_weight = client.get_measurements(upper_bound = datetime.date.today())[datetime.date(2022, 3, 1)]\n",
    "print('Your current weight is: ' + str(current_weight) + 'kg')"
   ]
  },
  {
   "cell_type": "code",
   "execution_count": 1182,
   "id": "5efc4105",
   "metadata": {},
   "outputs": [],
   "source": [
    "calories = 0"
   ]
  },
  {
   "cell_type": "markdown",
   "id": "561a2cfb",
   "metadata": {},
   "source": [
    "# WebApp"
   ]
  },
  {
   "cell_type": "code",
   "execution_count": 1183,
   "id": "6cb03da0",
   "metadata": {},
   "outputs": [],
   "source": [
    "## Stores (prefer get from DB ofcourse later on)\n",
    "#Create list or dict from multiple stores\n",
    "#52.351476166967736, 4.93562849866492\n",
    "stores = [{'lat' : 52.356, 'lng' : 4.953, 'name' : \"Science park\", 'description' : 'Campus of Science Park'},\n",
    "         {'lat' : 52.351476166967736, 'lng' : 4.93562849866492, 'name' : \"De Meer\", 'description' : 'Snackbar at the middenweg'}]\n",
    "# lat = 52.356\n",
    "# lng = 4.953\n",
    "# loc = \"Science park\"\n",
    "# content_string = 'DESCRIPTION OF THIS STORE'"
   ]
  },
  {
   "cell_type": "code",
   "execution_count": 1184,
   "id": "50f420d1",
   "metadata": {},
   "outputs": [],
   "source": [
    "## Hotspots\n",
    "#Create list or dict for multiple hotspots\n",
    "52.353580934267285, 4.955375250247711\n",
    "hotspots = [{'lat' : 52.353580934267285, 'lng' : 4.955375250247711, 'name' : \"Annas Tuin en Ruigte\", 'description' : 'Een onverwacht groen paradijsje midden op het Science Park.'},\n",
    "         {'lat' : 52.349141869498425, 'lng' : 4.944225460426125, 'name' : \"Jaap Eden Ijsbaan\", 'description' : 'Lekker schaatsen, erg koud wel'}]\n",
    "\n",
    "#hotspots = [{'lat' : 52.353580934267285, 'lng' : 4.955375250247711}]\n",
    "lat = 52.353580934267285\n",
    "lng = 4.955375250247711\n",
    "lat2 = 52.349141869498425\n",
    "lng2 = 4.944225460426125\n",
    "loc = \"Science park\"\n",
    "\n",
    "content_string = 'DESCRIPTION OF THIS HOTSPOT'\n",
    "\n",
    "# { lat: {{lat}}, lng: {{lng}} }\n",
    "# [{ location: {'lat' : 52.353580934267285, 'lng' : 4.4.955375250247711}}]"
   ]
  },
  {
   "cell_type": "code",
   "execution_count": 1185,
   "id": "66ab4b1e",
   "metadata": {},
   "outputs": [],
   "source": [
    "app = Flask(__name__)\n",
    "app.secret_key = \"abc\"  \n"
   ]
  },
  {
   "cell_type": "code",
   "execution_count": 1186,
   "id": "5dac1e22",
   "metadata": {},
   "outputs": [],
   "source": [
    "# @app.route(\"/\")\n",
    "# def index(name=None):\n",
    "#     return render_template('map.html', lng = lng, lat = lat, content_string = content_string)\n",
    "\n",
    "@app.route(\"/\", methods=['POST', 'GET'])\n",
    "def index(name=None):\n",
    "    if request.method == 'POST':\n",
    "        session['distance'] = 0\n",
    "        #print(request.form['storelist'])\n",
    "        if request.form['storelist']:\n",
    "            cur_store = request.form['storelist']\n",
    "            print(cur_store)\n",
    "            json_acceptable_string = cur_store.replace(\"'\", \"\\\"\")\n",
    "            dict_store = json.loads(json_acceptable_string)\n",
    "            if calories < 300:\n",
    "                return render_template('direction_scenic.html', store_list = dict_store, hotspots = hotspots, lng = lng, lat = lat, lng2 = lng2, lat2 = lat2, content_string = content_string, loc = loc)\n",
    "            if calories > 300:\n",
    "                return render_template('direction_short.html', store_list = dict_store, hotspots = hotspots, lng = lng, lat = lat, lng2 = lng2, lat2 = lat2, content_string = content_string, loc = loc)\n",
    "#         elif request.form['storelist1']:\n",
    "#             cur_store = request.form['storelist1']\n",
    "#             print(cur_store)\n",
    "#             json_acceptable_string = cur_store.replace(\"'\", \"\\\"\")\n",
    "#             dict_store = json.loads(json_acceptable_string)\n",
    "#             return render_template('direction_short.html', store_list = dict_store, hotspots = hotspots, lng = lng, lat = lat, lng2 = lng2, lat2 = lat2, content_string = content_string, loc = loc)\n",
    "    else:\n",
    "        return render_template('index.html', stores = stores, name = name)"
   ]
  },
  {
   "cell_type": "code",
   "execution_count": 1187,
   "id": "2104f681",
   "metadata": {},
   "outputs": [],
   "source": [
    "@app.route(\"/map\")\n",
    "def maps():\n",
    "    return render_template('map.html', lng = lng, lat = lat, content_string = content_string)"
   ]
  },
  {
   "cell_type": "code",
   "execution_count": 1188,
   "id": "e18cbf69",
   "metadata": {},
   "outputs": [],
   "source": [
    "@app.route(\"/direction_scenic\")\n",
    "def direction_scenic():\n",
    "    session['distance'] = 0\n",
    "    return render_template('direction_scenic.html', lng = lng, lat = lat, hotspots = hotspots, content_string = content_string, loc = loc)"
   ]
  },
  {
   "cell_type": "code",
   "execution_count": 1189,
   "id": "7a09a22c",
   "metadata": {},
   "outputs": [],
   "source": [
    "@app.route(\"/direction_short\")\n",
    "def direction_short():\n",
    "    return render_template('direction_short.html', lng = lng, lat = lat, content_string = content_string, loc = loc)"
   ]
  },
  {
   "cell_type": "code",
   "execution_count": 1190,
   "id": "9e1b6c08",
   "metadata": {},
   "outputs": [],
   "source": [
    "@app.route(\"/profile\", methods = ['POST', 'GET'])\n",
    "def profile(calories = calories, current_weight = current_weight):\n",
    "    user_name = request.form.get('exampleInputEmail1')\n",
    "    print(session['distance'])\n",
    "    return render_template('profile.html', calories = calories, current_weight = current_weight)"
   ]
  },
  {
   "cell_type": "code",
   "execution_count": 1191,
   "id": "4a34dfb6",
   "metadata": {},
   "outputs": [],
   "source": [
    "@app.route(\"/finish_page\", methods=['POST', 'GET'])\n",
    "def finish_page():\n",
    "    if request.method == 'POST':\n",
    "        if request.form['save']:\n",
    "            print(request.form['save'])\n",
    "            print('doet het')\n",
    "            new_stats = request.form['save']\n",
    "            session['distance'] = new_stats\n",
    "            return render_template('profile.html', calories = calories, current_weight = current_weight, new_stats = new_stats)\n",
    "    else:\n",
    "        distance = session.get('distance')\n",
    "        print(distance)\n",
    "        return render_template('finish_page.html', distance = distance, lng = lng, lat = lat, content_string = content_string, loc = loc)"
   ]
  },
  {
   "cell_type": "code",
   "execution_count": 1192,
   "id": "bc52233f",
   "metadata": {},
   "outputs": [
    {
     "name": "stderr",
     "output_type": "stream",
     "text": [
      " * Running on http://localhost:9000/ (Press CTRL+C to quit)\n",
      "127.0.0.1 - - [24/Mar/2022 11:28:17] \"GET / HTTP/1.1\" 200 -\n",
      "127.0.0.1 - - [24/Mar/2022 11:28:17] \"GET /static/images/icon.png HTTP/1.1\" 304 -\n",
      "127.0.0.1 - - [24/Mar/2022 11:28:17] \"GET /static/images/profile.png HTTP/1.1\" 304 -\n",
      "127.0.0.1 - - [24/Mar/2022 11:28:17] \"GET /static/images/maps.png HTTP/1.1\" 304 -\n",
      "127.0.0.1 - - [24/Mar/2022 11:28:18] \"POST / HTTP/1.1\" 200 -\n",
      "127.0.0.1 - - [24/Mar/2022 11:28:18] \"GET /static/images/icon.png HTTP/1.1\" 304 -\n",
      "127.0.0.1 - - [24/Mar/2022 11:28:18] \"GET /static/images/profile.png HTTP/1.1\" 304 -\n",
      "127.0.0.1 - - [24/Mar/2022 11:28:18] \"GET /static/icon.png HTTP/1.1\" 404 -\n",
      "127.0.0.1 - - [24/Mar/2022 11:28:18] \"GET /static/icon.png HTTP/1.1\" 404 -\n"
     ]
    },
    {
     "name": "stdout",
     "output_type": "stream",
     "text": [
      "{'lat': 52.356, 'lng': 4.953, 'name': 'Science park', 'description': 'Campus of Science Park'}\n"
     ]
    },
    {
     "name": "stderr",
     "output_type": "stream",
     "text": [
      "127.0.0.1 - - [24/Mar/2022 11:28:23] \"GET /finish_page HTTP/1.1\" 200 -\n",
      "127.0.0.1 - - [24/Mar/2022 11:28:23] \"GET /static/images/icon.png HTTP/1.1\" 304 -\n",
      "127.0.0.1 - - [24/Mar/2022 11:28:23] \"GET /static/images/profile.png HTTP/1.1\" 304 -\n"
     ]
    },
    {
     "name": "stdout",
     "output_type": "stream",
     "text": [
      "0\n"
     ]
    }
   ],
   "source": [
    "run_simple('localhost', 9000, app)"
   ]
  },
  {
   "cell_type": "code",
   "execution_count": null,
   "id": "202d4441",
   "metadata": {},
   "outputs": [],
   "source": []
  },
  {
   "cell_type": "code",
   "execution_count": null,
   "id": "b0778945",
   "metadata": {},
   "outputs": [],
   "source": []
  },
  {
   "cell_type": "code",
   "execution_count": null,
   "id": "d44663b6",
   "metadata": {},
   "outputs": [],
   "source": []
  },
  {
   "cell_type": "code",
   "execution_count": null,
   "id": "52092901",
   "metadata": {},
   "outputs": [],
   "source": []
  }
 ],
 "metadata": {
  "kernelspec": {
   "display_name": "Python 3 (ipykernel)",
   "language": "python",
   "name": "python3"
  },
  "language_info": {
   "codemirror_mode": {
    "name": "ipython",
    "version": 3
   },
   "file_extension": ".py",
   "mimetype": "text/x-python",
   "name": "python",
   "nbconvert_exporter": "python",
   "pygments_lexer": "ipython3",
   "version": "3.9.1"
  }
 },
 "nbformat": 4,
 "nbformat_minor": 5
}
