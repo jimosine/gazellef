{
 "cells": [
  {
   "cell_type": "code",
   "execution_count": 10,
   "id": "ecad48f2",
   "metadata": {},
   "outputs": [],
   "source": [
    "import pandas as pd\n",
    "import numpy as np\n",
    "import myfitnesspal\n",
    "import datetime\n",
    "\n",
    "\n",
    "from flask import g, Flask, render_template, request, session, redirect, url_for, jsonify\n",
    "from werkzeug.wrappers import Request, Response\n",
    "\n",
    "from werkzeug.serving import run_simple"
   ]
  },
  {
   "cell_type": "markdown",
   "id": "fe11de9d",
   "metadata": {},
   "source": [
    "# MyFitnessPal"
   ]
  },
  {
   "cell_type": "code",
   "execution_count": 11,
   "id": "15a1c122",
   "metadata": {},
   "outputs": [],
   "source": [
    "client = myfitnesspal.Client('groupb3', password='groupb3thebest')"
   ]
  },
  {
   "cell_type": "code",
   "execution_count": 12,
   "id": "b35532f4",
   "metadata": {},
   "outputs": [
    {
     "name": "stdout",
     "output_type": "stream",
     "text": [
      "03/11/22 {}\n",
      "[]\n",
      "You burned 0 calories today\n"
     ]
    }
   ],
   "source": [
    "date = datetime.date.today()\n",
    "day = client.get_date(date)\n",
    "print(day)\n",
    "print(day.exercises[0].get_as_list())\n",
    "\n",
    "calories = 0\n",
    "#calories = day.exercises[0].get_as_list()[0]['nutrition_information']['calories burned']\n",
    "print('You burned ' + str(calories) + ' calories today')"
   ]
  },
  {
   "cell_type": "code",
   "execution_count": 13,
   "id": "c3623f50",
   "metadata": {},
   "outputs": [
    {
     "name": "stdout",
     "output_type": "stream",
     "text": [
      "Your current weight is: OrderedDict()kg\n"
     ]
    }
   ],
   "source": [
    "current_weight = client.get_measurements(lower_bound = datetime.date.today())\n",
    "print('Your current weight is: ' + str(current_weight) + 'kg')"
   ]
  },
  {
   "cell_type": "code",
   "execution_count": null,
   "id": "5efc4105",
   "metadata": {},
   "outputs": [],
   "source": []
  },
  {
   "cell_type": "markdown",
   "id": "561a2cfb",
   "metadata": {},
   "source": [
    "# WebApp"
   ]
  },
  {
   "cell_type": "code",
   "execution_count": 42,
   "id": "50f420d1",
   "metadata": {},
   "outputs": [],
   "source": [
    "lng = 4.953\n",
    "lat = 52.356"
   ]
  },
  {
   "cell_type": "code",
   "execution_count": 43,
   "id": "171445d4",
   "metadata": {},
   "outputs": [],
   "source": [
    "content_string = 'BLABLABLA'"
   ]
  },
  {
   "cell_type": "code",
   "execution_count": 44,
   "id": "66ab4b1e",
   "metadata": {},
   "outputs": [],
   "source": [
    "app = Flask(__name__)\n"
   ]
  },
  {
   "cell_type": "code",
   "execution_count": 45,
   "id": "5dac1e22",
   "metadata": {},
   "outputs": [],
   "source": [
    "@app.route(\"/\")\n",
    "def index(name=None):\n",
    "    return render_template('map.html', lng = lng, lat = lat, content_string = content_string)"
   ]
  },
  {
   "cell_type": "code",
   "execution_count": 46,
   "id": "2104f681",
   "metadata": {},
   "outputs": [],
   "source": [
    "@app.route(\"/map\")\n",
    "def maps():\n",
    "    return render_template('map.html', lng = lng, lat = lat, content_string = content_string)"
   ]
  },
  {
   "cell_type": "code",
   "execution_count": 47,
   "id": "9e1b6c08",
   "metadata": {},
   "outputs": [],
   "source": [
    "@app.route(\"/profile\", methods = ['POST', 'GET'])\n",
    "def profile(calories = calories, current_weight = current_weight):\n",
    "    user_name = request.form.get('exampleInputEmail1')\n",
    "    print(user_name)\n",
    "    return render_template('profile.html', calories = calories, current_weight = current_weight)"
   ]
  },
  {
   "cell_type": "code",
   "execution_count": null,
   "id": "bc52233f",
   "metadata": {},
   "outputs": [
    {
     "name": "stderr",
     "output_type": "stream",
     "text": [
      " * Running on http://localhost:9000/ (Press CTRL+C to quit)\n",
      "127.0.0.1 - - [11/Mar/2022 10:58:23] \"GET / HTTP/1.1\" 200 -\n",
      "127.0.0.1 - - [11/Mar/2022 10:58:23] \"GET /images/icon.png HTTP/1.1\" 404 -\n",
      "127.0.0.1 - - [11/Mar/2022 10:58:23] \"GET /images/icon.png HTTP/1.1\" 404 -\n",
      "127.0.0.1 - - [11/Mar/2022 10:58:23] \"GET /images/icon.png HTTP/1.1\" 404 -\n"
     ]
    }
   ],
   "source": [
    "run_simple('localhost', 9000, app)"
   ]
  },
  {
   "cell_type": "code",
   "execution_count": null,
   "id": "202d4441",
   "metadata": {},
   "outputs": [],
   "source": []
  }
 ],
 "metadata": {
  "kernelspec": {
   "display_name": "Python 3 (ipykernel)",
   "language": "python",
   "name": "python3"
  },
  "language_info": {
   "codemirror_mode": {
    "name": "ipython",
    "version": 3
   },
   "file_extension": ".py",
   "mimetype": "text/x-python",
   "name": "python",
   "nbconvert_exporter": "python",
   "pygments_lexer": "ipython3",
   "version": "3.9.1"
  }
 },
 "nbformat": 4,
 "nbformat_minor": 5
}
