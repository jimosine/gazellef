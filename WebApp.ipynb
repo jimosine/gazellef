{
 "cells": [
  {
   "cell_type": "code",
   "execution_count": 1,
   "id": "ecad48f2",
   "metadata": {},
   "outputs": [],
   "source": [
    "import pandas as pd\n",
    "import numpy as np\n",
    "import myfitnesspal\n",
    "import datetime\n",
    "\n",
    "\n",
    "from flask import g, Flask, render_template, request, session, redirect, url_for, jsonify\n",
    "from werkzeug.wrappers import Request, Response\n",
    "\n",
    "from werkzeug.serving import run_simple"
   ]
  },
  {
   "cell_type": "markdown",
   "id": "fe11de9d",
   "metadata": {},
   "source": [
    "# MyFitnessPal"
   ]
  },
  {
   "cell_type": "code",
   "execution_count": 2,
   "id": "15a1c122",
   "metadata": {},
   "outputs": [],
   "source": [
    "client = myfitnesspal.Client('groupb3', password='groupb3thebest')"
   ]
  },
  {
   "cell_type": "code",
   "execution_count": 3,
   "id": "b35532f4",
   "metadata": {},
   "outputs": [
    {
     "name": "stdout",
     "output_type": "stream",
     "text": [
      "03/23/22 {}\n",
      "[]\n",
      "You burned 0 calories today\n"
     ]
    }
   ],
   "source": [
    "date = datetime.date.today()\n",
    "day = client.get_date(date)\n",
    "print(day)\n",
    "print(day.exercises[0].get_as_list())\n",
    "\n",
    "calories = 0\n",
    "#calories = day.exercises[0].get_as_list()[0]['nutrition_information']['calories burned']\n",
    "print('You burned ' + str(calories) + ' calories today')"
   ]
  },
  {
   "cell_type": "code",
   "execution_count": 4,
   "id": "c3623f50",
   "metadata": {},
   "outputs": [
    {
     "name": "stdout",
     "output_type": "stream",
     "text": [
      "Your current weight is: OrderedDict()kg\n"
     ]
    }
   ],
   "source": [
    "current_weight = client.get_measurements(lower_bound = datetime.date.today())\n",
    "print('Your current weight is: ' + str(current_weight) + 'kg')"
   ]
  },
  {
   "cell_type": "code",
   "execution_count": null,
   "id": "5efc4105",
   "metadata": {},
   "outputs": [],
   "source": []
  },
  {
   "cell_type": "markdown",
   "id": "561a2cfb",
   "metadata": {},
   "source": [
    "# WebApp"
   ]
  },
  {
   "cell_type": "code",
   "execution_count": 5,
   "id": "6cb03da0",
   "metadata": {},
   "outputs": [],
   "source": [
    "## Stores (prefer get from DB ofcourse later on)\n",
    "#Create list or dict from multiple stores\n",
    "\n",
    "lat = 52.356\n",
    "lng = 4.953\n",
    "loc = \"Science park\"\n",
    "\n",
    "content_string = 'DESCRIPTION OF THIS STORE'"
   ]
  },
  {
   "cell_type": "code",
   "execution_count": 6,
   "id": "50f420d1",
   "metadata": {},
   "outputs": [],
   "source": [
    "## Hotspots\n",
    "#Create list or dict for multiple hotspots\n",
    "lat = 52.356\n",
    "lng = 4.953\n",
    "loc = \"Science park\"\n",
    "\n",
    "content_string = 'DESCRIPTION OF THIS HOTSPOT'\n"
   ]
  },
  {
   "cell_type": "code",
   "execution_count": 7,
   "id": "171445d4",
   "metadata": {},
   "outputs": [],
   "source": [
    "content_string = 'BLABLABLA'"
   ]
  },
  {
   "cell_type": "code",
   "execution_count": 8,
   "id": "66ab4b1e",
   "metadata": {},
   "outputs": [],
   "source": [
    "app = Flask(__name__)\n"
   ]
  },
  {
   "cell_type": "code",
   "execution_count": 9,
   "id": "5dac1e22",
   "metadata": {},
   "outputs": [],
   "source": [
    "# @app.route(\"/\")\n",
    "# def index(name=None):\n",
    "#     return render_template('map.html', lng = lng, lat = lat, content_string = content_string)\n",
    "\n",
    "@app.route(\"/\")\n",
    "def index(name=None):\n",
    "    return render_template('index.html', name = name)"
   ]
  },
  {
   "cell_type": "code",
   "execution_count": 10,
   "id": "2104f681",
   "metadata": {},
   "outputs": [],
   "source": [
    "@app.route(\"/map\")\n",
    "def maps():\n",
    "    return render_template('map.html', lng = lng, lat = lat, content_string = content_string)"
   ]
  },
  {
   "cell_type": "code",
   "execution_count": 11,
   "id": "e18cbf69",
   "metadata": {},
   "outputs": [],
   "source": [
    "@app.route(\"/direction_scenic\")\n",
    "def direction_scenic():\n",
    "    return render_template('direction_scenic.html', lng = lng, lat = lat, content_string = content_string, loc = loc)"
   ]
  },
  {
   "cell_type": "code",
   "execution_count": 12,
   "id": "7a09a22c",
   "metadata": {},
   "outputs": [],
   "source": [
    "@app.route(\"/direction_short\")\n",
    "def direction_short():\n",
    "    return render_template('direction_short.html', lng = lng, lat = lat, content_string = content_string, loc = loc)"
   ]
  },
  {
   "cell_type": "code",
   "execution_count": 13,
   "id": "9e1b6c08",
   "metadata": {},
   "outputs": [],
   "source": [
    "@app.route(\"/profile\", methods = ['POST', 'GET'])\n",
    "def profile(calories = calories, current_weight = current_weight):\n",
    "    user_name = request.form.get('exampleInputEmail1')\n",
    "    print(user_name)\n",
    "    return render_template('profile.html', calories = calories, current_weight = current_weight)"
   ]
  },
  {
   "cell_type": "code",
   "execution_count": null,
   "id": "bc52233f",
   "metadata": {},
   "outputs": [
    {
     "name": "stderr",
     "output_type": "stream",
     "text": [
      " * Running on http://localhost:9000/ (Press CTRL+C to quit)\n",
      "127.0.0.1 - - [23/Mar/2022 15:55:08] \"\u001b[37mGET / HTTP/1.1\u001b[0m\" 200 -\n",
      "[2022-03-23 16:00:01,979] ERROR in app: Exception on /direction_short [GET]\n",
      "Traceback (most recent call last):\n",
      "  File \"C:\\Users\\avann\\anaconda3\\lib\\site-packages\\flask\\app.py\", line 2447, in wsgi_app\n",
      "    response = self.full_dispatch_request()\n",
      "  File \"C:\\Users\\avann\\anaconda3\\lib\\site-packages\\flask\\app.py\", line 1952, in full_dispatch_request\n",
      "    rv = self.handle_user_exception(e)\n",
      "  File \"C:\\Users\\avann\\anaconda3\\lib\\site-packages\\flask\\app.py\", line 1821, in handle_user_exception\n",
      "    reraise(exc_type, exc_value, tb)\n",
      "  File \"C:\\Users\\avann\\anaconda3\\lib\\site-packages\\flask\\_compat.py\", line 39, in reraise\n",
      "    raise value\n",
      "  File \"C:\\Users\\avann\\anaconda3\\lib\\site-packages\\flask\\app.py\", line 1950, in full_dispatch_request\n",
      "    rv = self.dispatch_request()\n",
      "  File \"C:\\Users\\avann\\anaconda3\\lib\\site-packages\\flask\\app.py\", line 1936, in dispatch_request\n",
      "    return self.view_functions[rule.endpoint](**req.view_args)\n",
      "  File \"<ipython-input-12-6d9ec26c649c>\", line 3, in direction_short\n",
      "    return render_template('direction_short.html', lng = lng, lat = lat, content_string = content_string, loc = loc)\n",
      "  File \"C:\\Users\\avann\\anaconda3\\lib\\site-packages\\flask\\templating.py\", line 138, in render_template\n",
      "    ctx.app.jinja_env.get_or_select_template(template_name_or_list),\n",
      "  File \"C:\\Users\\avann\\anaconda3\\lib\\site-packages\\jinja2\\environment.py\", line 930, in get_or_select_template\n",
      "    return self.get_template(template_name_or_list, parent, globals)\n",
      "  File \"C:\\Users\\avann\\anaconda3\\lib\\site-packages\\jinja2\\environment.py\", line 883, in get_template\n",
      "    return self._load_template(name, self.make_globals(globals))\n",
      "  File \"C:\\Users\\avann\\anaconda3\\lib\\site-packages\\jinja2\\environment.py\", line 857, in _load_template\n",
      "    template = self.loader.load(self, name, globals)\n",
      "  File \"C:\\Users\\avann\\anaconda3\\lib\\site-packages\\jinja2\\loaders.py\", line 127, in load\n",
      "    code = environment.compile(source, name, filename)\n",
      "  File \"C:\\Users\\avann\\anaconda3\\lib\\site-packages\\jinja2\\environment.py\", line 638, in compile\n",
      "    self.handle_exception(source=source_hint)\n",
      "  File \"C:\\Users\\avann\\anaconda3\\lib\\site-packages\\jinja2\\environment.py\", line 832, in handle_exception\n",
      "    reraise(*rewrite_traceback_stack(source=source))\n",
      "  File \"C:\\Users\\avann\\anaconda3\\lib\\site-packages\\jinja2\\_compat.py\", line 28, in reraise\n",
      "    raise value.with_traceback(tb)\n",
      "  File \"C:\\Users\\avann\\Desktop\\UvA\\Data, Sensors and Complex Services\\gazellef\\templates\\direction_short.html\", line 85, in template\n",
      "    const store_loc = { lat: {{ lat }\n",
      "jinja2.exceptions.TemplateSyntaxError: unexpected '}'\n",
      "127.0.0.1 - - [23/Mar/2022 16:00:01] \"\u001b[35m\u001b[1mGET /direction_short HTTP/1.1\u001b[0m\" 500 -\n",
      "[2022-03-23 16:00:05,783] ERROR in app: Exception on /direction_scenic [GET]\n",
      "Traceback (most recent call last):\n",
      "  File \"C:\\Users\\avann\\anaconda3\\lib\\site-packages\\flask\\app.py\", line 2447, in wsgi_app\n",
      "    response = self.full_dispatch_request()\n",
      "  File \"C:\\Users\\avann\\anaconda3\\lib\\site-packages\\flask\\app.py\", line 1952, in full_dispatch_request\n",
      "    rv = self.handle_user_exception(e)\n",
      "  File \"C:\\Users\\avann\\anaconda3\\lib\\site-packages\\flask\\app.py\", line 1821, in handle_user_exception\n",
      "    reraise(exc_type, exc_value, tb)\n",
      "  File \"C:\\Users\\avann\\anaconda3\\lib\\site-packages\\flask\\_compat.py\", line 39, in reraise\n",
      "    raise value\n",
      "  File \"C:\\Users\\avann\\anaconda3\\lib\\site-packages\\flask\\app.py\", line 1950, in full_dispatch_request\n",
      "    rv = self.dispatch_request()\n",
      "  File \"C:\\Users\\avann\\anaconda3\\lib\\site-packages\\flask\\app.py\", line 1936, in dispatch_request\n",
      "    return self.view_functions[rule.endpoint](**req.view_args)\n",
      "  File \"<ipython-input-11-03868c8e314f>\", line 3, in direction_scenic\n",
      "    return render_template('direction_scenic.html', lng = lng, lat = lat, content_string = content_string, loc = loc)\n",
      "  File \"C:\\Users\\avann\\anaconda3\\lib\\site-packages\\flask\\templating.py\", line 138, in render_template\n",
      "    ctx.app.jinja_env.get_or_select_template(template_name_or_list),\n",
      "  File \"C:\\Users\\avann\\anaconda3\\lib\\site-packages\\jinja2\\environment.py\", line 930, in get_or_select_template\n",
      "    return self.get_template(template_name_or_list, parent, globals)\n",
      "  File \"C:\\Users\\avann\\anaconda3\\lib\\site-packages\\jinja2\\environment.py\", line 883, in get_template\n",
      "    return self._load_template(name, self.make_globals(globals))\n",
      "  File \"C:\\Users\\avann\\anaconda3\\lib\\site-packages\\jinja2\\environment.py\", line 857, in _load_template\n",
      "    template = self.loader.load(self, name, globals)\n",
      "  File \"C:\\Users\\avann\\anaconda3\\lib\\site-packages\\jinja2\\loaders.py\", line 127, in load\n",
      "    code = environment.compile(source, name, filename)\n",
      "  File \"C:\\Users\\avann\\anaconda3\\lib\\site-packages\\jinja2\\environment.py\", line 638, in compile\n",
      "    self.handle_exception(source=source_hint)\n",
      "  File \"C:\\Users\\avann\\anaconda3\\lib\\site-packages\\jinja2\\environment.py\", line 832, in handle_exception\n",
      "    reraise(*rewrite_traceback_stack(source=source))\n",
      "  File \"C:\\Users\\avann\\anaconda3\\lib\\site-packages\\jinja2\\_compat.py\", line 28, in reraise\n",
      "    raise value.with_traceback(tb)\n",
      "  File \"C:\\Users\\avann\\Desktop\\UvA\\Data, Sensors and Complex Services\\gazellef\\templates\\direction_scenic.html\", line 77, in template\n",
      "    const store_loc = { lat: {{ lat }\n",
      "jinja2.exceptions.TemplateSyntaxError: unexpected '}'\n",
      "127.0.0.1 - - [23/Mar/2022 16:00:05] \"\u001b[35m\u001b[1mGET /direction_scenic HTTP/1.1\u001b[0m\" 500 -\n",
      "127.0.0.1 - - [23/Mar/2022 16:00:16] \"\u001b[37mGET / HTTP/1.1\u001b[0m\" 200 -\n",
      "[2022-03-23 16:00:18,469] ERROR in app: Exception on /direction_short [GET]\n",
      "Traceback (most recent call last):\n",
      "  File \"C:\\Users\\avann\\anaconda3\\lib\\site-packages\\flask\\app.py\", line 2447, in wsgi_app\n",
      "    response = self.full_dispatch_request()\n",
      "  File \"C:\\Users\\avann\\anaconda3\\lib\\site-packages\\flask\\app.py\", line 1952, in full_dispatch_request\n",
      "    rv = self.handle_user_exception(e)\n",
      "  File \"C:\\Users\\avann\\anaconda3\\lib\\site-packages\\flask\\app.py\", line 1821, in handle_user_exception\n",
      "    reraise(exc_type, exc_value, tb)\n",
      "  File \"C:\\Users\\avann\\anaconda3\\lib\\site-packages\\flask\\_compat.py\", line 39, in reraise\n",
      "    raise value\n",
      "  File \"C:\\Users\\avann\\anaconda3\\lib\\site-packages\\flask\\app.py\", line 1950, in full_dispatch_request\n",
      "    rv = self.dispatch_request()\n",
      "  File \"C:\\Users\\avann\\anaconda3\\lib\\site-packages\\flask\\app.py\", line 1936, in dispatch_request\n",
      "    return self.view_functions[rule.endpoint](**req.view_args)\n",
      "  File \"<ipython-input-12-6d9ec26c649c>\", line 3, in direction_short\n",
      "    return render_template('direction_short.html', lng = lng, lat = lat, content_string = content_string, loc = loc)\n",
      "  File \"C:\\Users\\avann\\anaconda3\\lib\\site-packages\\flask\\templating.py\", line 138, in render_template\n",
      "    ctx.app.jinja_env.get_or_select_template(template_name_or_list),\n",
      "  File \"C:\\Users\\avann\\anaconda3\\lib\\site-packages\\jinja2\\environment.py\", line 930, in get_or_select_template\n",
      "    return self.get_template(template_name_or_list, parent, globals)\n",
      "  File \"C:\\Users\\avann\\anaconda3\\lib\\site-packages\\jinja2\\environment.py\", line 883, in get_template\n",
      "    return self._load_template(name, self.make_globals(globals))\n",
      "  File \"C:\\Users\\avann\\anaconda3\\lib\\site-packages\\jinja2\\environment.py\", line 857, in _load_template\n",
      "    template = self.loader.load(self, name, globals)\n",
      "  File \"C:\\Users\\avann\\anaconda3\\lib\\site-packages\\jinja2\\loaders.py\", line 127, in load\n",
      "    code = environment.compile(source, name, filename)\n",
      "  File \"C:\\Users\\avann\\anaconda3\\lib\\site-packages\\jinja2\\environment.py\", line 638, in compile\n",
      "    self.handle_exception(source=source_hint)\n",
      "  File \"C:\\Users\\avann\\anaconda3\\lib\\site-packages\\jinja2\\environment.py\", line 832, in handle_exception\n",
      "    reraise(*rewrite_traceback_stack(source=source))\n",
      "  File \"C:\\Users\\avann\\anaconda3\\lib\\site-packages\\jinja2\\_compat.py\", line 28, in reraise\n",
      "    raise value.with_traceback(tb)\n",
      "  File \"C:\\Users\\avann\\Desktop\\UvA\\Data, Sensors and Complex Services\\gazellef\\templates\\direction_short.html\", line 85, in template\n",
      "    const store_loc = { lat: {{ lat }\n",
      "jinja2.exceptions.TemplateSyntaxError: unexpected '}'\n",
      "127.0.0.1 - - [23/Mar/2022 16:00:18] \"\u001b[35m\u001b[1mGET /direction_short HTTP/1.1\u001b[0m\" 500 -\n"
     ]
    }
   ],
   "source": [
    "run_simple('localhost', 9000, app)"
   ]
  },
  {
   "cell_type": "code",
   "execution_count": null,
   "id": "202d4441",
   "metadata": {},
   "outputs": [],
   "source": []
  },
  {
   "cell_type": "code",
   "execution_count": null,
   "id": "b0778945",
   "metadata": {},
   "outputs": [],
   "source": []
  }
 ],
 "metadata": {
  "kernelspec": {
   "display_name": "Python 3",
   "language": "python",
   "name": "python3"
  },
  "language_info": {
   "codemirror_mode": {
    "name": "ipython",
    "version": 3
   },
   "file_extension": ".py",
   "mimetype": "text/x-python",
   "name": "python",
   "nbconvert_exporter": "python",
   "pygments_lexer": "ipython3",
   "version": "3.8.8"
  }
 },
 "nbformat": 4,
 "nbformat_minor": 5
}
